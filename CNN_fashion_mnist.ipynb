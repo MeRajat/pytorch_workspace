{
 "cells": [
  {
   "cell_type": "code",
   "execution_count": 1,
   "metadata": {},
   "outputs": [],
   "source": [
    "import torch \n",
    "import torch.nn as nn \n",
    "import torchvision.datasets as dsets \n",
    "import torchvision.transforms as transforms\n",
    "from torch.autograd import Variable\n",
    "import fashion_mnist"
   ]
  },
  {
   "cell_type": "code",
   "execution_count": 2,
   "metadata": {},
   "outputs": [],
   "source": [
    "# Load fashion mnist data \n",
    "train_dataset =fashion_mnist.MNIST(root='fashion_mnist/', train=True, transform=transforms.ToTensor(), download=True)"
   ]
  },
  {
   "cell_type": "code",
   "execution_count": 3,
   "metadata": {},
   "outputs": [],
   "source": [
    "test_dataset = dsets.MNIST(root='fashion_mnist/', \n",
    "                           train=False, \n",
    "                           transform=transforms.ToTensor())"
   ]
  },
  {
   "cell_type": "code",
   "execution_count": 4,
   "metadata": {},
   "outputs": [],
   "source": [
    "# Hyperparameters \n",
    "batch_size = 100 \n",
    "learning_rate = 0.0002\n",
    "num_epoch = 10"
   ]
  },
  {
   "cell_type": "code",
   "execution_count": 5,
   "metadata": {},
   "outputs": [],
   "source": [
    "train_loader = torch.utils.data.DataLoader(dataset=train_dataset,\n",
    "                                          batch_size = batch_size,\n",
    "                                          shuffle=True)\n",
    "\n",
    "test_loader = torch.utils.data.DataLoader(dataset=test_dataset,\n",
    "                                          batch_size=batch_size,\n",
    "                                          shuffle=False\n",
    "                                         )"
   ]
  },
  {
   "cell_type": "code",
   "execution_count": 6,
   "metadata": {},
   "outputs": [
    {
     "data": {
      "text/plain": [
       "conv_net (\n",
       "  (layer1): Sequential (\n",
       "    (0): Conv2d(1, 16, kernel_size=(3, 3), stride=(1, 1), padding=(1, 1))\n",
       "    (1): BatchNorm2d(16, eps=1e-05, momentum=0.1, affine=True)\n",
       "    (2): ReLU ()\n",
       "    (3): MaxPool2d (size=(2, 2), stride=(2, 2), dilation=(1, 1))\n",
       "    (4): Dropout2d (p=0.25)\n",
       "  )\n",
       "  (layer2): Sequential (\n",
       "    (0): Conv2d(16, 32, kernel_size=(3, 3), stride=(1, 1), padding=(1, 1))\n",
       "    (1): BatchNorm2d(32, eps=1e-05, momentum=0.1, affine=True)\n",
       "    (2): ReLU ()\n",
       "    (3): MaxPool2d (size=(2, 2), stride=(2, 2), dilation=(1, 1))\n",
       "    (4): Dropout2d (p=0.25)\n",
       "  )\n",
       "  (fc): Linear (1568 -> 10)\n",
       ")"
      ]
     },
     "execution_count": 6,
     "metadata": {},
     "output_type": "execute_result"
    }
   ],
   "source": [
    "class conv_net(nn.Module):\n",
    "    def __init__(self):\n",
    "            super().__init__()\n",
    "            self.layer1 = nn.Sequential(\n",
    "                nn.Conv2d(1, 16, kernel_size=3, padding=1),\n",
    "                nn.BatchNorm2d(16),\n",
    "                nn.ReLU(),\n",
    "                nn.MaxPool2d((2)),\n",
    "                nn.Dropout2d(0.25)\n",
    "            )\n",
    "            self.layer2 = nn.Sequential(\n",
    "                nn.Conv2d(16, 32, kernel_size=3, padding=1),\n",
    "                nn.BatchNorm2d(32),\n",
    "                nn.ReLU(),\n",
    "                nn.MaxPool2d((2)),\n",
    "                nn.Dropout2d(0.25)\n",
    "\n",
    "            )\n",
    "            self.fc = nn.Linear(7*7*32, 10)\n",
    "    \n",
    "    def forward(self, x):\n",
    "        out = self.layer1(x)\n",
    "        out = self.layer2(out)\n",
    "        out = out.view(out.size(0), -1)\n",
    "        return self.fc(out)\n",
    "        \n",
    "cnn = conv_net()\n",
    "cnn.cuda()"
   ]
  },
  {
   "cell_type": "code",
   "execution_count": 7,
   "metadata": {},
   "outputs": [],
   "source": [
    "criterion = nn.CrossEntropyLoss()\n",
    "optimizer = torch.optim.Adam(cnn.parameters(), lr = learning_rate)\n"
   ]
  },
  {
   "cell_type": "code",
   "execution_count": 8,
   "metadata": {},
   "outputs": [
    {
     "name": "stdout",
     "output_type": "stream",
     "text": [
      "best_loss =>  1 loss current =>  0.9982818365097046\n",
      "Epoch [1/11], Step[86/600], Loss:0.9983\n",
      "best_loss =>  0.9982818365097046 loss current =>  0.9861401915550232\n"
     ]
    },
    {
     "name": "stderr",
     "output_type": "stream",
     "text": [
      "/home/rajat/pytorch_env/lib/python3.5/site-packages/torch/serialization.py:147: UserWarning: Couldn't retrieve source code for container of type conv_net. It won't be checked for correctness upon loading.\n",
      "  \"type \" + obj.__name__ + \". It won't be checked \"\n"
     ]
    },
    {
     "name": "stdout",
     "output_type": "stream",
     "text": [
      "Epoch [1/11], Step[87/600], Loss:0.9861\n",
      "best_loss =>  0.9861401915550232 loss current =>  0.8893821835517883\n",
      "Epoch [1/11], Step[96/600], Loss:0.8894\n",
      "Epoch [1/10], Iter [100/600] Loss: 0.8967\n",
      "best_loss =>  0.8893821835517883 loss current =>  0.8555640578269958\n",
      "Epoch [1/11], Step[115/600], Loss:0.8556\n",
      "best_loss =>  0.8555640578269958 loss current =>  0.7987183928489685\n",
      "Epoch [1/11], Step[124/600], Loss:0.7987\n",
      "best_loss =>  0.7987183928489685 loss current =>  0.7956110239028931\n",
      "Epoch [1/11], Step[138/600], Loss:0.7956\n",
      "best_loss =>  0.7956110239028931 loss current =>  0.753864049911499\n",
      "Epoch [1/11], Step[144/600], Loss:0.7539\n",
      "best_loss =>  0.753864049911499 loss current =>  0.750221848487854\n",
      "Epoch [1/11], Step[157/600], Loss:0.7502\n",
      "best_loss =>  0.750221848487854 loss current =>  0.6883711218833923\n",
      "Epoch [1/11], Step[159/600], Loss:0.6884\n",
      "best_loss =>  0.6883711218833923 loss current =>  0.6389422416687012\n",
      "Epoch [1/11], Step[167/600], Loss:0.6389\n",
      "best_loss =>  0.6389422416687012 loss current =>  0.6059539318084717\n",
      "Epoch [1/11], Step[195/600], Loss:0.6060\n",
      "Epoch [1/10], Iter [200/600] Loss: 0.7370\n",
      "best_loss =>  0.6059539318084717 loss current =>  0.5936596393585205\n",
      "Epoch [1/11], Step[207/600], Loss:0.5937\n",
      "best_loss =>  0.5936596393585205 loss current =>  0.5884842872619629\n",
      "Epoch [1/11], Step[213/600], Loss:0.5885\n",
      "best_loss =>  0.5884842872619629 loss current =>  0.5730020403862\n",
      "Epoch [1/11], Step[214/600], Loss:0.5730\n",
      "best_loss =>  0.5730020403862 loss current =>  0.533974289894104\n",
      "Epoch [1/11], Step[222/600], Loss:0.5340\n",
      "best_loss =>  0.533974289894104 loss current =>  0.50867760181427\n",
      "Epoch [1/11], Step[257/600], Loss:0.5087\n",
      "best_loss =>  0.50867760181427 loss current =>  0.5026317834854126\n",
      "Epoch [1/11], Step[281/600], Loss:0.5026\n",
      "Epoch [1/10], Iter [300/600] Loss: 0.6740\n",
      "best_loss =>  0.5026317834854126 loss current =>  0.46528786420822144\n",
      "Epoch [1/11], Step[327/600], Loss:0.4653\n",
      "best_loss =>  0.46528786420822144 loss current =>  0.39523205161094666\n",
      "Epoch [1/11], Step[373/600], Loss:0.3952\n",
      "Epoch [1/10], Iter [400/600] Loss: 0.5827\n",
      "best_loss =>  0.39523205161094666 loss current =>  0.3706720769405365\n",
      "Epoch [1/11], Step[472/600], Loss:0.3707\n",
      "best_loss =>  0.3706720769405365 loss current =>  0.3650904595851898\n",
      "Epoch [1/11], Step[483/600], Loss:0.3651\n",
      "Epoch [1/10], Iter [500/600] Loss: 0.4287\n",
      "best_loss =>  0.3650904595851898 loss current =>  0.333408385515213\n",
      "Epoch [1/11], Step[548/600], Loss:0.3334\n",
      "best_loss =>  0.333408385515213 loss current =>  0.3085276484489441\n",
      "Epoch [1/11], Step[552/600], Loss:0.3085\n",
      "Epoch [1/10], Iter [600/600] Loss: 0.4286\n",
      "Epoch [2/10], Iter [100/600] Loss: 0.5053\n",
      "Epoch [2/10], Iter [200/600] Loss: 0.3662\n",
      "Epoch [2/10], Iter [300/600] Loss: 0.4499\n",
      "best_loss =>  0.3085276484489441 loss current =>  0.30571702122688293\n",
      "Epoch [2/11], Step[305/600], Loss:0.3057\n",
      "best_loss =>  0.30571702122688293 loss current =>  0.29084086418151855\n",
      "Epoch [2/11], Step[330/600], Loss:0.2908\n",
      "best_loss =>  0.29084086418151855 loss current =>  0.28706496953964233\n",
      "Epoch [2/11], Step[350/600], Loss:0.2871\n",
      "Epoch [2/10], Iter [400/600] Loss: 0.3875\n",
      "best_loss =>  0.28706496953964233 loss current =>  0.284353107213974\n",
      "Epoch [2/11], Step[474/600], Loss:0.2844\n",
      "best_loss =>  0.284353107213974 loss current =>  0.2669391930103302\n",
      "Epoch [2/11], Step[484/600], Loss:0.2669\n",
      "Epoch [2/10], Iter [500/600] Loss: 0.4087\n",
      "Epoch [2/10], Iter [600/600] Loss: 0.3434\n",
      "Epoch [3/10], Iter [100/600] Loss: 0.3740\n",
      "best_loss =>  0.2669391930103302 loss current =>  0.2601558566093445\n",
      "Epoch [3/11], Step[189/600], Loss:0.2602\n",
      "Epoch [3/10], Iter [200/600] Loss: 0.3410\n",
      "best_loss =>  0.2601558566093445 loss current =>  0.25592413544654846\n",
      "Epoch [3/11], Step[209/600], Loss:0.2559\n",
      "best_loss =>  0.25592413544654846 loss current =>  0.22690895199775696\n",
      "Epoch [3/11], Step[298/600], Loss:0.2269\n",
      "Epoch [3/10], Iter [300/600] Loss: 0.5170\n",
      "Epoch [3/10], Iter [400/600] Loss: 0.4072\n",
      "best_loss =>  0.22690895199775696 loss current =>  0.2172892987728119\n",
      "Epoch [3/11], Step[418/600], Loss:0.2173\n",
      "Epoch [3/10], Iter [500/600] Loss: 0.3042\n",
      "best_loss =>  0.2172892987728119 loss current =>  0.18380016088485718\n",
      "Epoch [3/11], Step[579/600], Loss:0.1838\n",
      "Epoch [3/10], Iter [600/600] Loss: 0.3229\n",
      "Epoch [4/10], Iter [100/600] Loss: 0.4542\n",
      "Epoch [4/10], Iter [200/600] Loss: 0.4090\n",
      "Epoch [4/10], Iter [300/600] Loss: 0.4298\n",
      "Epoch [4/10], Iter [400/600] Loss: 0.3833\n",
      "Epoch [4/10], Iter [500/600] Loss: 0.3982\n",
      "Epoch [4/10], Iter [600/600] Loss: 0.4694\n",
      "best_loss =>  0.18380016088485718 loss current =>  0.17805057764053345\n",
      "Epoch [5/11], Step[92/600], Loss:0.1781\n",
      "Epoch [5/10], Iter [100/600] Loss: 0.2602\n",
      "Epoch [5/10], Iter [200/600] Loss: 0.2446\n",
      "Epoch [5/10], Iter [300/600] Loss: 0.3412\n",
      "best_loss =>  0.17805057764053345 loss current =>  0.17065638303756714\n",
      "Epoch [5/11], Step[318/600], Loss:0.1707\n",
      "Epoch [5/10], Iter [400/600] Loss: 0.3422\n",
      "best_loss =>  0.17065638303756714 loss current =>  0.1470327228307724\n",
      "Epoch [5/11], Step[430/600], Loss:0.1470\n",
      "Epoch [5/10], Iter [500/600] Loss: 0.3216\n",
      "Epoch [5/10], Iter [600/600] Loss: 0.4088\n",
      "Epoch [6/10], Iter [100/600] Loss: 0.2036\n",
      "Epoch [6/10], Iter [200/600] Loss: 0.4217\n",
      "best_loss =>  0.1470327228307724 loss current =>  0.13277140259742737\n",
      "Epoch [6/11], Step[248/600], Loss:0.1328\n",
      "Epoch [6/10], Iter [300/600] Loss: 0.3903\n",
      "Epoch [6/10], Iter [400/600] Loss: 0.3106\n",
      "Epoch [6/10], Iter [500/600] Loss: 0.3193\n",
      "Epoch [6/10], Iter [600/600] Loss: 0.3108\n",
      "Epoch [7/10], Iter [100/600] Loss: 0.4202\n",
      "Epoch [7/10], Iter [200/600] Loss: 0.2743\n",
      "Epoch [7/10], Iter [300/600] Loss: 0.2387\n",
      "Epoch [7/10], Iter [400/600] Loss: 0.3400\n",
      "Epoch [7/10], Iter [500/600] Loss: 0.2732\n",
      "best_loss =>  0.13277140259742737 loss current =>  0.12708839774131775\n",
      "Epoch [7/11], Step[533/600], Loss:0.1271\n",
      "Epoch [7/10], Iter [600/600] Loss: 0.4050\n",
      "Epoch [8/10], Iter [100/600] Loss: 0.3323\n",
      "Epoch [8/10], Iter [200/600] Loss: 0.3252\n",
      "Epoch [8/10], Iter [300/600] Loss: 0.3130\n",
      "Epoch [8/10], Iter [400/600] Loss: 0.2853\n",
      "Epoch [8/10], Iter [500/600] Loss: 0.4864\n",
      "Epoch [8/10], Iter [600/600] Loss: 0.2495\n",
      "Epoch [9/10], Iter [100/600] Loss: 0.4885\n",
      "Epoch [9/10], Iter [200/600] Loss: 0.2543\n",
      "Epoch [9/10], Iter [300/600] Loss: 0.3198\n",
      "Epoch [9/10], Iter [400/600] Loss: 0.1402\n",
      "best_loss =>  0.12708839774131775 loss current =>  0.1030796617269516\n",
      "Epoch [9/11], Step[466/600], Loss:0.1031\n",
      "Epoch [9/10], Iter [500/600] Loss: 0.2365\n",
      "Epoch [9/10], Iter [600/600] Loss: 0.3484\n",
      "Epoch [10/10], Iter [100/600] Loss: 0.2171\n",
      "Epoch [10/10], Iter [200/600] Loss: 0.2099\n",
      "Epoch [10/10], Iter [300/600] Loss: 0.2317\n",
      "Epoch [10/10], Iter [400/600] Loss: 0.2678\n",
      "Epoch [10/10], Iter [500/600] Loss: 0.1861\n",
      "Epoch [10/10], Iter [600/600] Loss: 0.2066\n"
     ]
    }
   ],
   "source": [
    "best_loss = 1\n",
    "loss = []\n",
    "for epoch in range(num_epoch):\n",
    "    for i, (images, labels) in enumerate(train_loader):\n",
    "        images = Variable(images).cuda()\n",
    "        labels = Variable(labels).cuda()\n",
    "        \n",
    "        # optimize \n",
    "        optimizer.zero_grad()\n",
    "        outputs = cnn(images)\n",
    "        loss = criterion(outputs, labels)\n",
    "        loss.backward()\n",
    "        optimizer.step()\n",
    "        \n",
    "        if (i+1) % 100 == 0:\n",
    "            print ('Epoch [%d/%d], Iter [%d/%d] Loss: %.4f' \n",
    "                   %(epoch+1, num_epoch, i+1, len(train_dataset)//batch_size, loss.data[0]))\n",
    "        if best_loss > loss.data[0]:\n",
    "            print(\"best_loss => \", best_loss, \"loss current => \", loss.data[0])\n",
    "            best_loss = loss.data[0]\n",
    "            torch.save(cnn, 'model.pkl')\n",
    "            print('Epoch [%d/%d], Step[%d/%d], Loss:%.4f' % (epoch + 1, num_epoch + 1, i+1, len(train_dataset)\n",
    "                                                //batch_size, loss.data[0]))"
   ]
  },
  {
   "cell_type": "code",
   "execution_count": 9,
   "metadata": {},
   "outputs": [],
   "source": [
    "cnn.eval()    # Change model to 'eval' mode (BN uses moving mean/var).\n",
    "correct = 0\n",
    "total = 0\n",
    "cnn = torch.load('model.pkl')\n",
    "for images, labels in test_loader:\n",
    "    images = Variable(images).cuda()\n",
    "    outputs = cnn(images)\n",
    "    _, predicted = torch.max(outputs.data, 1)\n",
    "    total += labels.size(0)\n",
    "    correct += (predicted.cpu() == labels).sum()"
   ]
  },
  {
   "cell_type": "code",
   "execution_count": 10,
   "metadata": {},
   "outputs": [
    {
     "name": "stdout",
     "output_type": "stream",
     "text": [
      "Test Accuracy of the model on the 10000 test images: 87 %\n"
     ]
    }
   ],
   "source": [
    "print('Test Accuracy of the model on the 10000 test images: %d %%' % (100 * correct / total))\n",
    "\n"
   ]
  },
  {
   "cell_type": "code",
   "execution_count": 11,
   "metadata": {},
   "outputs": [],
   "source": [
    "class VGG(nn.Module):\n",
    "    def __init__(self):\n",
    "        super.__init__()\n",
    "        \n",
    "        layer1 = nn.Sequential(\n",
    "            nn.Conv2d(3, 32, 3),\n",
    "            nn.ReLU(),\n",
    "            nn.Conv2d(3, 32, 3),\n",
    "            nn.ReLU(),\n",
    "            nn.MaxPool2d((2))\n",
    "        )\n",
    "        layer2 = nn.Sequential(\n",
    "            nn.Conv2d(32, 64, 3),\n",
    "            nn.ReLU(),\n",
    "            nn.Conv2d(32, 64, 3),\n",
    "            nn.ReLU(),\n",
    "            nn.MaxPool2d((2))\n",
    "        )\n",
    "        nn.Linear()"
   ]
  },
  {
   "cell_type": "code",
   "execution_count": null,
   "metadata": {
    "collapsed": true
   },
   "outputs": [],
   "source": [
    "cnn."
   ]
  }
 ],
 "metadata": {
  "kernelspec": {
   "display_name": "Python 3",
   "language": "python",
   "name": "python3"
  },
  "language_info": {
   "codemirror_mode": {
    "name": "ipython",
    "version": 3
   },
   "file_extension": ".py",
   "mimetype": "text/x-python",
   "name": "python",
   "nbconvert_exporter": "python",
   "pygments_lexer": "ipython3",
   "version": "3.5.2"
  }
 },
 "nbformat": 4,
 "nbformat_minor": 2
}
