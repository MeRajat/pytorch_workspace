{
 "cells": [
  {
   "cell_type": "markdown",
   "metadata": {},
   "source": [
    "##### import libraries "
   ]
  },
  {
   "cell_type": "code",
   "execution_count": 1,
   "metadata": {
    "collapsed": true
   },
   "outputs": [],
   "source": [
    "import torch \n",
    "import torch.nn as nn \n",
    "import torchvision.datasets as dsets \n",
    "import torchvision.transforms as transforms\n",
    "from torch.autograd import Variable\n",
    "import fashion_mnist"
   ]
  },
  {
   "cell_type": "markdown",
   "metadata": {},
   "source": [
    "##### Hyper Params"
   ]
  },
  {
   "cell_type": "code",
   "execution_count": 2,
   "metadata": {
    "collapsed": true
   },
   "outputs": [],
   "source": [
    "# Hyper Params \n",
    "input_size = 784 \n",
    "hidden_size = 500 \n",
    "num_classes = 10 \n",
    "num_epoch  = 10\n",
    "batch_size = 100\n",
    "learning_rate  = 0.0005"
   ]
  },
  {
   "cell_type": "code",
   "execution_count": 3,
   "metadata": {
    "collapsed": true
   },
   "outputs": [],
   "source": [
    "# Load fashion mnist data \n",
    "train_dataset =fashion_mnist.MNIST(root='fashion_mnist/', train=True, transform=transforms.ToTensor(), download=True)"
   ]
  },
  {
   "cell_type": "code",
   "execution_count": 4,
   "metadata": {
    "collapsed": true
   },
   "outputs": [],
   "source": [
    "test_dataset = dsets.MNIST(root='fashion_mnist/', \n",
    "                           train=False, \n",
    "                           transform=transforms.ToTensor())"
   ]
  },
  {
   "cell_type": "code",
   "execution_count": 5,
   "metadata": {
    "collapsed": true
   },
   "outputs": [],
   "source": [
    "train_loader = torch.utils.data.DataLoader(dataset=train_dataset,\n",
    "                                          batch_size = batch_size,\n",
    "                                          shuffle=True)\n",
    "\n",
    "test_loader = torch.utils.data.DataLoader(dataset=test_dataset,\n",
    "                                          batch_size=batch_size,\n",
    "                                          shuffle=False\n",
    "                                         )"
   ]
  },
  {
   "cell_type": "code",
   "execution_count": 6,
   "metadata": {
    "collapsed": true
   },
   "outputs": [],
   "source": [
    "class Net(nn.Module):\n",
    "    def __init__(self, input_size, hidden_size, num_classes):\n",
    "        super().__init__()\n",
    "        self.fc1 = nn.Linear(input_size, hidden_size)\n",
    "        self.relu = nn.ReLU()\n",
    "        self.fc2 = nn.Linear(hidden_size, num_classes)\n",
    "    \n",
    "    def forward(self, x):\n",
    "        out = self.fc1(x)\n",
    "        out = self.relu(out)\n",
    "        out = self.fc2(out)\n",
    "        return out \n",
    "    "
   ]
  },
  {
   "cell_type": "code",
   "execution_count": 7,
   "metadata": {
    "collapsed": true
   },
   "outputs": [],
   "source": [
    "net = Net(input_size, hidden_size, num_classes)"
   ]
  },
  {
   "cell_type": "code",
   "execution_count": 8,
   "metadata": {},
   "outputs": [
    {
     "data": {
      "text/plain": [
       "Net (\n",
       "  (fc1): Linear (784 -> 500)\n",
       "  (relu): ReLU ()\n",
       "  (fc2): Linear (500 -> 10)\n",
       ")"
      ]
     },
     "execution_count": 8,
     "metadata": {},
     "output_type": "execute_result"
    }
   ],
   "source": [
    "net.cuda()"
   ]
  },
  {
   "cell_type": "code",
   "execution_count": 9,
   "metadata": {
    "collapsed": true
   },
   "outputs": [],
   "source": [
    "criterion = nn.CrossEntropyLoss()\n",
    "optimizer = torch.optim.Adam(net.parameters(), lr = learning_rate)"
   ]
  },
  {
   "cell_type": "code",
   "execution_count": 10,
   "metadata": {},
   "outputs": [
    {
     "name": "stdout",
     "output_type": "stream",
     "text": [
      "best_loss =>  10 loss current =>  2.3296163082122803\n",
      "Epoch [1/11], Step[1/600], Loss:2.3296\n",
      "best_loss =>  2.3296163082122803 loss current =>  2.2403178215026855\n",
      "Epoch [1/11], Step[2/600], Loss:2.2403\n",
      "best_loss =>  2.2403178215026855 loss current =>  2.134056806564331\n",
      "Epoch [1/11], Step[3/600], Loss:2.1341\n",
      "best_loss =>  2.134056806564331 loss current =>  2.0588386058807373\n",
      "Epoch [1/11], Step[4/600], Loss:2.0588\n",
      "best_loss =>  2.0588386058807373 loss current =>  2.0086233615875244\n",
      "Epoch [1/11], Step[5/600], Loss:2.0086\n",
      "best_loss =>  2.0086233615875244 loss current =>  1.9413663148880005\n",
      "Epoch [1/11], Step[6/600], Loss:1.9414\n",
      "best_loss =>  1.9413663148880005 loss current =>  1.872633934020996\n",
      "Epoch [1/11], Step[7/600], Loss:1.8726\n",
      "best_loss =>  1.872633934020996 loss current =>  1.6484547853469849\n"
     ]
    },
    {
     "name": "stderr",
     "output_type": "stream",
     "text": [
      "/home/rajat/torch/lib/python3.5/site-packages/torch/serialization.py:147: UserWarning: Couldn't retrieve source code for container of type Net. It won't be checked for correctness upon loading.\n",
      "  \"type \" + obj.__name__ + \". It won't be checked \"\n"
     ]
    },
    {
     "name": "stdout",
     "output_type": "stream",
     "text": [
      "Epoch [1/11], Step[8/600], Loss:1.6485\n",
      "best_loss =>  1.6484547853469849 loss current =>  1.6455632448196411\n",
      "Epoch [1/11], Step[10/600], Loss:1.6456\n",
      "best_loss =>  1.6455632448196411 loss current =>  1.5328364372253418\n",
      "Epoch [1/11], Step[11/600], Loss:1.5328\n",
      "best_loss =>  1.5328364372253418 loss current =>  1.5165317058563232\n",
      "Epoch [1/11], Step[13/600], Loss:1.5165\n",
      "best_loss =>  1.5165317058563232 loss current =>  1.3718931674957275\n",
      "Epoch [1/11], Step[14/600], Loss:1.3719\n",
      "best_loss =>  1.3718931674957275 loss current =>  1.3094775676727295\n",
      "Epoch [1/11], Step[15/600], Loss:1.3095\n",
      "best_loss =>  1.3094775676727295 loss current =>  1.2296804189682007\n",
      "Epoch [1/11], Step[17/600], Loss:1.2297\n",
      "best_loss =>  1.2296804189682007 loss current =>  1.1447484493255615\n",
      "Epoch [1/11], Step[19/600], Loss:1.1447\n",
      "best_loss =>  1.1447484493255615 loss current =>  1.0274817943572998\n",
      "Epoch [1/11], Step[22/600], Loss:1.0275\n",
      "best_loss =>  1.0274817943572998 loss current =>  0.915382981300354\n",
      "Epoch [1/11], Step[26/600], Loss:0.9154\n",
      "best_loss =>  0.915382981300354 loss current =>  0.8745609521865845\n",
      "Epoch [1/11], Step[27/600], Loss:0.8746\n",
      "best_loss =>  0.8745609521865845 loss current =>  0.8214852213859558\n",
      "Epoch [1/11], Step[28/600], Loss:0.8215\n",
      "best_loss =>  0.8214852213859558 loss current =>  0.7934381365776062\n",
      "Epoch [1/11], Step[33/600], Loss:0.7934\n",
      "best_loss =>  0.7934381365776062 loss current =>  0.7854688167572021\n",
      "Epoch [1/11], Step[35/600], Loss:0.7855\n",
      "best_loss =>  0.7854688167572021 loss current =>  0.7588607668876648\n",
      "Epoch [1/11], Step[44/600], Loss:0.7589\n",
      "best_loss =>  0.7588607668876648 loss current =>  0.7293534874916077\n",
      "Epoch [1/11], Step[45/600], Loss:0.7294\n",
      "best_loss =>  0.7293534874916077 loss current =>  0.674262523651123\n",
      "Epoch [1/11], Step[49/600], Loss:0.6743\n",
      "best_loss =>  0.674262523651123 loss current =>  0.6304183006286621\n",
      "Epoch [1/11], Step[55/600], Loss:0.6304\n",
      "best_loss =>  0.6304183006286621 loss current =>  0.6034754514694214\n",
      "Epoch [1/11], Step[57/600], Loss:0.6035\n",
      "best_loss =>  0.6034754514694214 loss current =>  0.5985708236694336\n",
      "Epoch [1/11], Step[77/600], Loss:0.5986\n",
      "best_loss =>  0.5985708236694336 loss current =>  0.568351149559021\n",
      "Epoch [1/11], Step[86/600], Loss:0.5684\n",
      "best_loss =>  0.568351149559021 loss current =>  0.543879508972168\n",
      "Epoch [1/11], Step[90/600], Loss:0.5439\n",
      "Epoch [1/11], Step[100/600], Loss:0.5991\n",
      "best_loss =>  0.543879508972168 loss current =>  0.538066565990448\n",
      "Epoch [1/11], Step[101/600], Loss:0.5381\n",
      "best_loss =>  0.538066565990448 loss current =>  0.49016132950782776\n",
      "Epoch [1/11], Step[102/600], Loss:0.4902\n",
      "best_loss =>  0.49016132950782776 loss current =>  0.4858260452747345\n",
      "Epoch [1/11], Step[103/600], Loss:0.4858\n",
      "best_loss =>  0.4858260452747345 loss current =>  0.4475870430469513\n",
      "Epoch [1/11], Step[130/600], Loss:0.4476\n",
      "best_loss =>  0.4475870430469513 loss current =>  0.44431740045547485\n",
      "Epoch [1/11], Step[132/600], Loss:0.4443\n",
      "best_loss =>  0.44431740045547485 loss current =>  0.4229229986667633\n",
      "Epoch [1/11], Step[138/600], Loss:0.4229\n",
      "best_loss =>  0.4229229986667633 loss current =>  0.4211352467536926\n",
      "Epoch [1/11], Step[156/600], Loss:0.4211\n",
      "best_loss =>  0.4211352467536926 loss current =>  0.3972663879394531\n",
      "Epoch [1/11], Step[162/600], Loss:0.3973\n",
      "best_loss =>  0.3972663879394531 loss current =>  0.369861364364624\n",
      "Epoch [1/11], Step[189/600], Loss:0.3699\n",
      "Epoch [1/11], Step[200/600], Loss:0.6708\n",
      "best_loss =>  0.369861364364624 loss current =>  0.28611573576927185\n",
      "Epoch [1/11], Step[221/600], Loss:0.2861\n",
      "Epoch [1/11], Step[300/600], Loss:0.3816\n",
      "best_loss =>  0.28611573576927185 loss current =>  0.26586389541625977\n",
      "Epoch [1/11], Step[325/600], Loss:0.2659\n",
      "Epoch [1/11], Step[400/600], Loss:0.5662\n",
      "best_loss =>  0.26586389541625977 loss current =>  0.2506200671195984\n",
      "Epoch [1/11], Step[477/600], Loss:0.2506\n",
      "Epoch [1/11], Step[500/600], Loss:0.2805\n",
      "Epoch [1/11], Step[600/600], Loss:0.4693\n",
      "Epoch [2/11], Step[100/600], Loss:0.3986\n",
      "best_loss =>  0.2506200671195984 loss current =>  0.2478792369365692\n",
      "Epoch [2/11], Step[182/600], Loss:0.2479\n",
      "best_loss =>  0.2478792369365692 loss current =>  0.23266883194446564\n",
      "Epoch [2/11], Step[188/600], Loss:0.2327\n",
      "best_loss =>  0.23266883194446564 loss current =>  0.22208961844444275\n",
      "Epoch [2/11], Step[189/600], Loss:0.2221\n",
      "Epoch [2/11], Step[200/600], Loss:0.2978\n",
      "best_loss =>  0.22208961844444275 loss current =>  0.187670037150383\n",
      "Epoch [2/11], Step[244/600], Loss:0.1877\n",
      "Epoch [2/11], Step[300/600], Loss:0.3861\n",
      "Epoch [2/11], Step[400/600], Loss:0.2242\n",
      "Epoch [2/11], Step[500/600], Loss:0.3635\n",
      "Epoch [2/11], Step[600/600], Loss:0.2808\n",
      "Epoch [3/11], Step[100/600], Loss:0.3273\n",
      "best_loss =>  0.187670037150383 loss current =>  0.18389613926410675\n",
      "Epoch [3/11], Step[171/600], Loss:0.1839\n",
      "Epoch [3/11], Step[200/600], Loss:0.3689\n",
      "Epoch [3/11], Step[300/600], Loss:0.2531\n",
      "Epoch [3/11], Step[400/600], Loss:0.3895\n",
      "Epoch [3/11], Step[500/600], Loss:0.2995\n",
      "best_loss =>  0.18389613926410675 loss current =>  0.17539724707603455\n",
      "Epoch [3/11], Step[564/600], Loss:0.1754\n",
      "Epoch [3/11], Step[600/600], Loss:0.3288\n",
      "best_loss =>  0.17539724707603455 loss current =>  0.1736457198858261\n",
      "Epoch [4/11], Step[64/600], Loss:0.1736\n",
      "Epoch [4/11], Step[100/600], Loss:0.2937\n",
      "Epoch [4/11], Step[200/600], Loss:0.3230\n",
      "Epoch [4/11], Step[300/600], Loss:0.3496\n",
      "Epoch [4/11], Step[400/600], Loss:0.2317\n",
      "Epoch [4/11], Step[500/600], Loss:0.2156\n",
      "Epoch [4/11], Step[600/600], Loss:0.3007\n",
      "best_loss =>  0.1736457198858261 loss current =>  0.14965978264808655\n",
      "Epoch [5/11], Step[40/600], Loss:0.1497\n",
      "Epoch [5/11], Step[100/600], Loss:0.2450\n",
      "Epoch [5/11], Step[200/600], Loss:0.3162\n",
      "Epoch [5/11], Step[300/600], Loss:0.2504\n",
      "Epoch [5/11], Step[400/600], Loss:0.2100\n",
      "Epoch [5/11], Step[500/600], Loss:0.2120\n",
      "Epoch [5/11], Step[600/600], Loss:0.3626\n",
      "Epoch [6/11], Step[100/600], Loss:0.3894\n",
      "best_loss =>  0.14965978264808655 loss current =>  0.12558120489120483\n",
      "Epoch [6/11], Step[196/600], Loss:0.1256\n",
      "Epoch [6/11], Step[200/600], Loss:0.3071\n",
      "Epoch [6/11], Step[300/600], Loss:0.3091\n",
      "Epoch [6/11], Step[400/600], Loss:0.2196\n",
      "Epoch [6/11], Step[500/600], Loss:0.4976\n",
      "Epoch [6/11], Step[600/600], Loss:0.2583\n",
      "Epoch [7/11], Step[100/600], Loss:0.2132\n",
      "Epoch [7/11], Step[200/600], Loss:0.2188\n",
      "Epoch [7/11], Step[300/600], Loss:0.4027\n",
      "Epoch [7/11], Step[400/600], Loss:0.3644\n",
      "Epoch [7/11], Step[500/600], Loss:0.2335\n",
      "Epoch [7/11], Step[600/600], Loss:0.2524\n",
      "Epoch [8/11], Step[100/600], Loss:0.2424\n",
      "Epoch [8/11], Step[200/600], Loss:0.2734\n",
      "Epoch [8/11], Step[300/600], Loss:0.1511\n",
      "Epoch [8/11], Step[400/600], Loss:0.3612\n",
      "Epoch [8/11], Step[500/600], Loss:0.2634\n",
      "Epoch [8/11], Step[600/600], Loss:0.1942\n",
      "Epoch [9/11], Step[100/600], Loss:0.2123\n",
      "best_loss =>  0.12558120489120483 loss current =>  0.11736119538545609\n",
      "Epoch [9/11], Step[146/600], Loss:0.1174\n",
      "Epoch [9/11], Step[200/600], Loss:0.1816\n",
      "Epoch [9/11], Step[300/600], Loss:0.3367\n",
      "Epoch [9/11], Step[400/600], Loss:0.2317\n",
      "best_loss =>  0.11736119538545609 loss current =>  0.11056691408157349\n",
      "Epoch [9/11], Step[407/600], Loss:0.1106\n",
      "Epoch [9/11], Step[500/600], Loss:0.2439\n",
      "Epoch [9/11], Step[600/600], Loss:0.2380\n",
      "Epoch [10/11], Step[100/600], Loss:0.2423\n",
      "Epoch [10/11], Step[200/600], Loss:0.2305\n",
      "Epoch [10/11], Step[300/600], Loss:0.2859\n",
      "best_loss =>  0.11056691408157349 loss current =>  0.10086341947317123\n",
      "Epoch [10/11], Step[317/600], Loss:0.1009\n",
      "Epoch [10/11], Step[400/600], Loss:0.2395\n",
      "Epoch [10/11], Step[500/600], Loss:0.2332\n",
      "Epoch [10/11], Step[600/600], Loss:0.2988\n"
     ]
    }
   ],
   "source": [
    "best_loss = 10\n",
    "for epoch in range(num_epoch):\n",
    "    for i, (images, labels) in enumerate(train_loader):\n",
    "        # convert torch tensor to Variable \n",
    "        images = Variable(images.view(-1, 28 * 28 ).cuda())\n",
    "        labels = Variable(labels.cuda())\n",
    "        \n",
    "        # forward \n",
    "        optimizer.zero_grad()\n",
    "        outputs = net(images)\n",
    "        loss = criterion(outputs, labels)\n",
    "        loss.backward()\n",
    "        optimizer.step()\n",
    "        \n",
    "        if (i + 1)%100 == 0:\n",
    "            print('Epoch [%d/%d], Step[%d/%d], Loss:%.4f' % (epoch + 1, num_epoch + 1, i+1, len(train_dataset)\n",
    "                                                            //batch_size, loss.data[0]))\n",
    "        if best_loss > loss.data[0]:\n",
    "            print(\"best_loss => \", best_loss, \"loss current => \", loss.data[0])\n",
    "            best_loss = loss.data[0]\n",
    "            torch.save(net, 'model.pkl')\n",
    "            print('Epoch [%d/%d], Step[%d/%d], Loss:%.4f' % (epoch + 1, num_epoch + 1, i+1, len(train_dataset)\n",
    "                                                //batch_size, loss.data[0]))\n",
    "        "
   ]
  },
  {
   "cell_type": "code",
   "execution_count": 11,
   "metadata": {},
   "outputs": [
    {
     "name": "stdout",
     "output_type": "stream",
     "text": [
      "Accuracy of the network on the 10000 test images: 88 %\n"
     ]
    }
   ],
   "source": [
    "# Test the Model\n",
    "correct = 0\n",
    "total = 0\n",
    "#net_new = torch.load('model.pkl')\n",
    "\n",
    "# initalise model class \n",
    "# net_new = Net(*args, **kwargs)\n",
    "# net_new.load_state_dict(torch.load('model.pkl'))\n",
    "net_new = torch.load('model.pkl')\n",
    "for images, labels in test_loader:\n",
    "    images = Variable(images.view(-1, 28*28)).cuda()\n",
    "    outputs = net_new(images)\n",
    "    _, predicted = torch.max(outputs.data, 1)\n",
    "    total += labels.size(0)\n",
    "    correct += (predicted.cpu() == labels).sum()\n",
    "\n",
    "print('Accuracy of the network on the 10000 test images: %d %%' % (100 * correct / total))\n",
    "# Save the Model\n",
    "# torch.save(net.state_dict(), 'model.pkl')"
   ]
  },
  {
   "cell_type": "code",
   "execution_count": 12,
   "metadata": {},
   "outputs": [
    {
     "data": {
      "text/plain": [
       "Net (\n",
       "  (fc1): Linear (784 -> 500)\n",
       "  (relu): ReLU ()\n",
       "  (fc2): Linear (500 -> 10)\n",
       ")"
      ]
     },
     "execution_count": 12,
     "metadata": {},
     "output_type": "execute_result"
    }
   ],
   "source": [
    "net_new"
   ]
  },
  {
   "cell_type": "code",
   "execution_count": 13,
   "metadata": {},
   "outputs": [
    {
     "data": {
      "text/plain": [
       "Linear (784 -> 500)"
      ]
     },
     "execution_count": 13,
     "metadata": {},
     "output_type": "execute_result"
    }
   ],
   "source": [
    "net.fc1"
   ]
  },
  {
   "cell_type": "code",
   "execution_count": null,
   "metadata": {
    "collapsed": true
   },
   "outputs": [],
   "source": [
    "\n",
    "    "
   ]
  }
 ],
 "metadata": {
  "kernelspec": {
   "display_name": "Python 3",
   "language": "python",
   "name": "python3"
  },
  "language_info": {
   "codemirror_mode": {
    "name": "ipython",
    "version": 3
   },
   "file_extension": ".py",
   "mimetype": "text/x-python",
   "name": "python",
   "nbconvert_exporter": "python",
   "pygments_lexer": "ipython3",
   "version": "3.5.2"
  }
 },
 "nbformat": 4,
 "nbformat_minor": 2
}
